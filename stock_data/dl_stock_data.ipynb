{
 "cells": [
  {
   "cell_type": "code",
   "execution_count": 1,
   "metadata": {},
   "outputs": [],
   "source": [
    "from selenium import webdriver\n",
    "from selenium.common.exceptions import NoSuchElementException\n",
    "import time\n",
    "from bs4 import BeautifulSoup\n",
    "import pandas as pd\n",
    "import requests\n",
    "from datetime import datetime\n",
    "import chromedriver_binary\n",
    "from webdriver_manager.chrome import ChromeDriverManager"
   ]
  },
  {
   "cell_type": "code",
   "execution_count": 2,
   "metadata": {},
   "outputs": [
    {
     "name": "stdout",
     "output_type": "stream",
     "text": [
      "Requirement already satisfied: chromedriver-binary==85.0.4183.87 in /Users/ruka/.pyenv/versions/3.8.3/lib/python3.8/site-packages (85.0.4183.87.0)\n",
      "\u001b[33mWARNING: You are using pip version 20.2.4; however, version 20.3.1 is available.\n",
      "You should consider upgrading via the '/Users/ruka/.pyenv/versions/3.8.3/bin/python3.8 -m pip install --upgrade pip' command.\u001b[0m\n"
     ]
    }
   ],
   "source": [
    "#!pip install chromedriver-binary==87.0.4280.88\n",
    "\n",
    "# chromedriverのバージョン自動更新\n",
    "driver = webdriver.Chrome(ChromeDriverManager().install(), options=options)\n",
    "driver.get('https://google.com')"
   ]
  },
  {
   "cell_type": "code",
   "execution_count": 3,
   "metadata": {},
   "outputs": [
    {
     "name": "stdout",
     "output_type": "stream",
     "text": [
      "[2018, 2019, 2020]\n"
     ]
    }
   ],
   "source": [
    "year = [2018,2019,2020]\n",
    "#year = list(range(1983,2021)) # range\n",
    "print(year)"
   ]
  },
  {
   "cell_type": "code",
   "execution_count": 4,
   "metadata": {},
   "outputs": [],
   "source": [
    "def get_dfs(stock_number):\n",
    "    dfs = []\n",
    "    for y in year:\n",
    "        try:\n",
    "            #print(y)\n",
    "            url = 'https://kabuoji3.com/stock/{}/{}/'.format(stock_number,y)\n",
    "            headers = {\n",
    "                \"User-Agent\": \"Mozilla/5.0 (Macintosh; Intel Mac OS X 10_15_3) AppleWebKit/537.36 (KHTML, like Gecko) Chrome/85.0.4183.121 Safari/537.36\"\n",
    "            }\n",
    "            soup = BeautifulSoup(requests.get(url, headers = headers).content,'html.parser')\n",
    "            tag_tr = soup.find_all('tr')\n",
    "            head = [h.text for h in tag_tr[0].find_all('th')]\n",
    "            data = []\n",
    "            for i in range(1,len(tag_tr)):\n",
    "                data.append([d.text for d in tag_tr[i].find_all('td')])\n",
    "            df = pd.DataFrame(data, columns = head)\n",
    "\n",
    "            col = ['始値','高値','安値','終値','出来高','終値調整']\n",
    "            for c in col:\n",
    "                df[c] = df[c].astype(float)\n",
    "            df['日付'] = [datetime.strptime(i,'%Y-%m-%d') for i in df['日付']]\n",
    "            dfs.append(df)\n",
    "        except IndexError:\n",
    "            pass\n",
    "            #print('No data')\n",
    "    return dfs\n",
    "\n",
    "def concatenate(dfs):\n",
    "    data = pd.concat(dfs,axis=0)\n",
    "    data = data.reset_index(drop=True)\n",
    "    col = ['始値','高値','安値','終値','出来高','終値調整']\n",
    "    for c in col:\n",
    "        data[c] = data[c].astype(float)\n",
    "    return data"
   ]
  },
  {
   "cell_type": "code",
   "execution_count": 5,
   "metadata": {},
   "outputs": [
    {
     "name": "stdout",
     "output_type": "stream",
     "text": [
      "2657\n"
     ]
    },
    {
     "data": {
      "text/html": [
       "<div>\n",
       "<style scoped>\n",
       "    .dataframe tbody tr th:only-of-type {\n",
       "        vertical-align: middle;\n",
       "    }\n",
       "\n",
       "    .dataframe tbody tr th {\n",
       "        vertical-align: top;\n",
       "    }\n",
       "\n",
       "    .dataframe thead th {\n",
       "        text-align: right;\n",
       "    }\n",
       "</style>\n",
       "<table border=\"1\" class=\"dataframe\">\n",
       "  <thead>\n",
       "    <tr style=\"text-align: right;\">\n",
       "      <th></th>\n",
       "      <th>code</th>\n",
       "      <th>name</th>\n",
       "    </tr>\n",
       "  </thead>\n",
       "  <tbody>\n",
       "    <tr>\n",
       "      <th>0</th>\n",
       "      <td>1301</td>\n",
       "      <td>極洋</td>\n",
       "    </tr>\n",
       "    <tr>\n",
       "      <th>1</th>\n",
       "      <td>1332</td>\n",
       "      <td>日本水産</td>\n",
       "    </tr>\n",
       "    <tr>\n",
       "      <th>2</th>\n",
       "      <td>1333</td>\n",
       "      <td>マルハニチロ</td>\n",
       "    </tr>\n",
       "    <tr>\n",
       "      <th>3</th>\n",
       "      <td>1352</td>\n",
       "      <td>ホウスイ</td>\n",
       "    </tr>\n",
       "    <tr>\n",
       "      <th>4</th>\n",
       "      <td>1375</td>\n",
       "      <td>雪国まいたけ</td>\n",
       "    </tr>\n",
       "    <tr>\n",
       "      <th>5</th>\n",
       "      <td>1376</td>\n",
       "      <td>カネコ種苗</td>\n",
       "    </tr>\n",
       "    <tr>\n",
       "      <th>6</th>\n",
       "      <td>1377</td>\n",
       "      <td>サカタのタネ</td>\n",
       "    </tr>\n",
       "    <tr>\n",
       "      <th>7</th>\n",
       "      <td>1379</td>\n",
       "      <td>ホクト</td>\n",
       "    </tr>\n",
       "    <tr>\n",
       "      <th>8</th>\n",
       "      <td>1384</td>\n",
       "      <td>ホクリヨウ</td>\n",
       "    </tr>\n",
       "    <tr>\n",
       "      <th>9</th>\n",
       "      <td>1413</td>\n",
       "      <td>ヒノキヤグループ</td>\n",
       "    </tr>\n",
       "  </tbody>\n",
       "</table>\n",
       "</div>"
      ],
      "text/plain": [
       "   code      name\n",
       "0  1301        極洋\n",
       "1  1332      日本水産\n",
       "2  1333    マルハニチロ\n",
       "3  1352      ホウスイ\n",
       "4  1375    雪国まいたけ\n",
       "5  1376     カネコ種苗\n",
       "6  1377    サカタのタネ\n",
       "7  1379       ホクト\n",
       "8  1384     ホクリヨウ\n",
       "9  1413  ヒノキヤグループ"
      ]
     },
     "execution_count": 5,
     "metadata": {},
     "output_type": "execute_result"
    }
   ],
   "source": [
    "# 全体を更新する場合\n",
    "code_list = pd.read_csv('tokyo1-2.csv') # 東証１部と２部全体\n",
    "\n",
    "# 一部を更新する場合\n",
    "#code_list = pd.read_csv('id_test.csv')\n",
    "\n",
    "print(len(code_list))\n",
    "code_list[:10]"
   ]
  },
  {
   "cell_type": "code",
   "execution_count": 6,
   "metadata": {},
   "outputs": [
    {
     "name": "stdout",
     "output_type": "stream",
     "text": [
      "CPU times: user 24min 17s, sys: 29.2 s, total: 24min 46s\n",
      "Wall time: 1h 46min 10s\n"
     ]
    }
   ],
   "source": [
    "%%time\n",
    "driver = webdriver.Chrome()\n",
    "error_list = []\n",
    "\n",
    "for i in range(len(code_list)):\n",
    "    k = code_list.loc[i,'code']\n",
    "    v = code_list.loc[i,'name']\n",
    "    #print(k,v)\n",
    "    try:\n",
    "        dfs = get_dfs(k)\n",
    "        data = concatenate(dfs) \n",
    "        data.to_csv('data/{}-{}.csv'.format(k,v))\n",
    "    except:\n",
    "        error_list.append(k)"
   ]
  },
  {
   "cell_type": "code",
   "execution_count": null,
   "metadata": {},
   "outputs": [],
   "source": [
    "error_list.to_csv('error_list.csv')"
   ]
  },
  {
   "cell_type": "code",
   "execution_count": 1,
   "metadata": {},
   "outputs": [],
   "source": [
    "#end"
   ]
  }
 ],
 "metadata": {
  "kernelspec": {
   "display_name": "Python 3",
   "language": "python",
   "name": "python3"
  },
  "language_info": {
   "codemirror_mode": {
    "name": "ipython",
    "version": 3
   },
   "file_extension": ".py",
   "mimetype": "text/x-python",
   "name": "python",
   "nbconvert_exporter": "python",
   "pygments_lexer": "ipython3",
   "version": "3.8.3"
  }
 },
 "nbformat": 4,
 "nbformat_minor": 4
}
